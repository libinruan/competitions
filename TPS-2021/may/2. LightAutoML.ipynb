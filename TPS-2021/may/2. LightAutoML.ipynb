{
 "metadata": {
  "orig_nbformat": 2,
  "kernelspec": {
   "name": "python3",
   "display_name": "Python 3",
   "language": "python"
  }
 },
 "nbformat": 4,
 "nbformat_minor": 2,
 "cells": [
  {
   "source": [
    "!pip install -U lightautoml"
   ],
   "cell_type": "code",
   "metadata": {},
   "execution_count": null,
   "outputs": []
  },
  {
   "cell_type": "code",
   "execution_count": 8,
   "metadata": {},
   "outputs": [],
   "source": [
    "# Standard python libraries\n",
    "import os\n",
    "import time\n",
    "import re\n",
    "\n",
    "# Installed libraries\n",
    "import numpy as np\n",
    "import pandas as pd\n",
    "from sklearn.metrics import log_loss\n",
    "from sklearn.model_selection import train_test_split\n",
    "\n",
    "import matplotlib.pyplot as plt\n",
    "%matplotlib inline\n",
    "import seaborn as sns\n",
    "\n",
    "import warnings\n",
    "warnings.filterwarnings(\"ignore\")\n",
    "\n",
    "plt.style.use(\"fivethirtyeight\")\n",
    "sns.set_style(\"darkgrid\")\n",
    "pd.set_option(\"display.max_columns\", 999)\n",
    "\n",
    "# Imports from our package\n",
    "from lightautoml.automl.presets.tabular_presets import TabularAutoML, TabularUtilizedAutoML\n",
    "from lightautoml.tasks import Task\n",
    "\n",
    "os.chdir('/kaggle/working/')"
   ]
  },
  {
   "cell_type": "code",
   "execution_count": 3,
   "metadata": {},
   "outputs": [],
   "source": [
    "N_THREADS = 4 # threads cnt for lgbm and linear models\n",
    "N_FOLDS = 5 # folds cnt for AutoML\n",
    "RANDOM_STATE = 42 # fixed random state for various reasons\n",
    "TEST_SIZE = 0.2 # Test size for metric check\n",
    "TIMEOUT = 3 * 3600 # Time in seconds for automl run\n",
    "TARGET_NAME = 'target'"
   ]
  },
  {
   "cell_type": "code",
   "execution_count": 10,
   "metadata": {},
   "outputs": [
    {
     "output_type": "stream",
     "name": "stdout",
     "text": [
      "CPU times: user 425 ms, sys: 52 ms, total: 477 ms\nWall time: 475 ms\n"
     ]
    }
   ],
   "source": [
    "%%time\n",
    "\n",
    "train_data = pd.read_csv('../input/tabular-playground-series-may-2021/train.csv')\n",
    "train_data[TARGET_NAME] = train_data[TARGET_NAME].str.slice(start=6).astype(int) - 1\n",
    "test_data = pd.read_csv('../input/tabular-playground-series-may-2021/test.csv')\n",
    "submission = pd.read_csv('../input/tabular-playground-series-may-2021/sample_submission.csv')"
   ]
  },
  {
   "source": [
    "# TODO Add New Features"
   ],
   "cell_type": "markdown",
   "metadata": {}
  },
  {
   "cell_type": "code",
   "execution_count": 11,
   "metadata": {},
   "outputs": [
    {
     "output_type": "stream",
     "name": "stdout",
     "text": [
      "(100000, 52) (50000, 52)\n"
     ]
    }
   ],
   "source": [
    "def create_gr_feats(data):\n",
    "    pass\n",
    "    \n",
    "all_df = pd.concat([train_data, test_data]).reset_index(drop = True)\n",
    "create_gr_feats(all_df)\n",
    "train_data, test_data = all_df[:len(train_data)], all_df[len(train_data):]\n",
    "print(train_data.shape, test_data.shape)\n"
   ]
  },
  {
   "source": [
    "# AUTOML preset use"
   ],
   "cell_type": "markdown",
   "metadata": {}
  },
  {
   "cell_type": "code",
   "execution_count": null,
   "metadata": {},
   "outputs": [],
   "source": [
    "# create task\n",
    "task = Task('multiclass',)\n",
    "# setup columns roles\n",
    "roles = {\n",
    "    'target': TARGET_NAME,\n",
    "    'drop': ['id'],\n",
    "}\n",
    "# train on full data\n",
    "automl = TabularUtilizedAutoML(task = task, \n",
    "                               timeout = TIMEOUT,\n",
    "                               cpu_limit = N_THREADS,\n",
    "                               reader_params = {'n_jobs': N_THREADS},\n",
    "                               configs_list=[\n",
    "                                   '../input/lightautoml-configs/conf_0_sel_type_0.yml',\n",
    "                                   '../input/lightautoml-configs/conf_1_sel_type_1.yml'\n",
    "                               ])\n",
    "oof_pred = automl.fit_predict(train_data, roles = roles)\n",
    "print('oof_pred:\\n{}\\nShape = {}'.format(oof_pred[:10], oof_pred.shape))\n",
    "# fast feature importance calculation\n",
    "# Fast feature importances calculation\n",
    "fast_fi = automl.get_feature_scores('fast', silent = False)\n",
    "fast_fi.set_index('Feature')['Importance'].plot.bar(figsize = (20, 10), grid = True)"
   ]
  },
  {
   "source": [
    "AutoML:\n",
    "\n",
    "1. [first tutorial](https://github.com/sberbank-ai-lab/LightAutoML/blob/master/Tutorial_1.%20Create%20your%20own%20pipeline.ipynb)\n",
    "\n",
    "2. [costom feature generator](https://www.kaggle.com/simakov/lama-custom-automl-pipeline-example)\n",
    "\n",
    "Pycaret:\n",
    "\n",
    "1. [Tabular Playground Series May 2021 using Pycaret](https://www.kaggle.com/siddharthpchauhan/tabular-playground-series-may-2021-using-pycaret) Newer.\n",
    "\n",
    "2. [Tabular Playground May 2021 using Catboost](https://www.kaggle.com/siddharthpchauhan/tabular-playground-may-2021-using-catboost) Older."
   ],
   "cell_type": "markdown",
   "metadata": {}
  },
  {
   "cell_type": "code",
   "execution_count": null,
   "metadata": {},
   "outputs": [],
   "source": []
  }
 ]
}
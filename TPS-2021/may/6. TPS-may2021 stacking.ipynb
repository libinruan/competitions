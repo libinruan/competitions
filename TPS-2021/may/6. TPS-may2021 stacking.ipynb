{
 "metadata": {
  "language_info": {
   "codemirror_mode": {
    "name": "ipython",
    "version": 3
   },
   "file_extension": ".py",
   "mimetype": "text/x-python",
   "name": "python",
   "nbconvert_exporter": "python",
   "pygments_lexer": "ipython3",
   "version": 3
  },
  "orig_nbformat": 2
 },
 "nbformat": 4,
 "nbformat_minor": 2,
 "cells": [
  {
   "source": [
    "Reference:\n",
    "\n",
    "1. [TPS-May2021 Stacking 🥞](https://www.kaggle.com/gomes555/tps-may2021-stacking)\n",
    "\n",
    "2. [Introduction to Ensembling/Stacking in Python](https://www.kaggle.com/arthurtok/introduction-to-ensembling-stacking-in-python#Ensembling-&-Stacking-models)"
   ],
   "cell_type": "markdown",
   "metadata": {}
  }
 ]
}
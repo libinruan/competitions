{
 "metadata": {
  "language_info": {
   "codemirror_mode": {
    "name": "ipython",
    "version": 3
   },
   "file_extension": ".py",
   "mimetype": "text/x-python",
   "name": "python",
   "nbconvert_exporter": "python",
   "pygments_lexer": "ipython3",
   "version": 3
  },
  "orig_nbformat": 2
 },
 "nbformat": 4,
 "nbformat_minor": 2,
 "cells": [
  {
   "source": [
    "Reference:\n",
    "\n",
    "0. [Pycaret Tabular playground 26 April 2021](https://www.kaggle.com/siddharthpchauhan/pycaret-tabular-playground-26-april-2021)\n",
    "\n",
    "   [TPS May 2021 for begineers](https://www.kaggle.com/siddharthpchauhan/tps-may-2021-for-begineers)\n",
    "\n",
    "   [Credit Card Fraud Detection_PyCaret](https://www.kaggle.com/sureshmecad/credit-card-fraud-detection-pycaret)\n",
    "\n",
    "1. [Tabular Playground Series May 2021 using Pycaret](https://tinyurl.com/yfmt4oeg)\n",
    "\n",
    "2. [TPS May + EDA + log transformation + Voting](https://www.kaggle.com/siddharthpchauhan/tps-may-eda-log-transformation-voting)\n"
   ],
   "cell_type": "markdown",
   "metadata": {}
  },
  {
   "cell_type": "code",
   "execution_count": null,
   "metadata": {},
   "outputs": [],
   "source": []
  }
 ]
}
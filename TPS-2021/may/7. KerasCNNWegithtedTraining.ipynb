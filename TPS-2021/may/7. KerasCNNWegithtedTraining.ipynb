{
 "metadata": {
  "orig_nbformat": 2,
  "kernelspec": {
   "name": "python3",
   "display_name": "Python 3",
   "language": "python"
  }
 },
 "nbformat": 4,
 "nbformat_minor": 2,
 "cells": [
  {
   "source": [
    "References:\n",
    "1. [[TPS-5] Hydra - Keras - weighted, Embedding, mix](https://www.kaggle.com/remekkinas/tps-5-hydra-keras-weighted-embedding-mix/comments#1314523)"
   ],
   "cell_type": "markdown",
   "metadata": {}
  },
  {
   "cell_type": "code",
   "execution_count": 3,
   "metadata": {},
   "outputs": [],
   "source": [
    "def timer(start_time=None):\n",
    "    if not start_time:\n",
    "        start_time = datetime.now()\n",
    "        return start_time\n",
    "    elif start_time:\n",
    "        thour, temp_sec = divmod((datetime.now() - start_time).total_seconds(), 3600)\n",
    "        tmin, tsec = divmod(temp_sec, 60)\n",
    "        print('Time taken : %i hours %i minutes and %s seconds.' % (thour, tmin, round(tsec, 2)))\n"
   ]
  },
  {
   "cell_type": "code",
   "execution_count": 4,
   "metadata": {},
   "outputs": [],
   "source": [
    "def current_datetime(tz=\"America/New_York\"):\n",
    "    import datetime\n",
    "    import pytz\n",
    "    utc_now = pytz.utc.localize(datetime.datetime.utcnow())\n",
    "    pst_now = utc_now.astimezone(pytz.timezone(\"America/New_York\"))\n",
    "    return pst_now.strftime(\"%b-%d-%Y-at-%H-%M\")"
   ]
  },
  {
   "cell_type": "code",
   "execution_count": 5,
   "metadata": {},
   "outputs": [],
   "source": [
    "from scipy.special import erfinv\n",
    "def rank_gauss(x):\n",
    "    N = x.shape[0]\n",
    "    temp = x.argsort()\n",
    "    rank_x = temp.argsort() / N\n",
    "    rank_x -= rank_x.mean()\n",
    "    rank_x *= 2\n",
    "    efi_x = erfinv(rank_x)\n",
    "    efi_x -= efi_x.mean()\n",
    "    return efi_x"
   ]
  },
  {
   "cell_type": "code",
   "execution_count": null,
   "metadata": {},
   "outputs": [],
   "source": []
  }
 ]
}
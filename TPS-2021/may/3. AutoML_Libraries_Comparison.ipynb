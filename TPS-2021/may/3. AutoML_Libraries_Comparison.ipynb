{
 "metadata": {
  "language_info": {
   "codemirror_mode": {
    "name": "ipython",
    "version": 3
   },
   "file_extension": ".py",
   "mimetype": "text/x-python",
   "name": "python",
   "nbconvert_exporter": "python",
   "pygments_lexer": "ipython3",
   "version": 3
  },
  "orig_nbformat": 2
 },
 "nbformat": 4,
 "nbformat_minor": 2,
 "cells": [
  {
   "source": [
    "References:\n",
    "\n",
    "1. [Tabular Playground Series May 2021 using Pycaret](https://www.kaggle.com/siddharthpchauhan/tabular-playground-series-may-2021-using-pycaret)\n",
    "\n",
    "2. [🔥🔥🔥 From blending to stacking, get your model to outperform others!](https://www.kaggle.com/c/tabular-playground-series-mar-2021/discussion/225929)  \n",
    "\n",
    "3. [AutoML Libraries Comparison](https://tinyurl.com/yjxhqozk)\n",
    "\n",
    "4. [Chapter 7 – Ensemble Learning and Random Forests](https://github.com/ageron/handson-ml2/blob/master/07_ensemble_learning_and_random_forests.ipynb)"
   ],
   "cell_type": "markdown",
   "metadata": {}
  }
 ]
}